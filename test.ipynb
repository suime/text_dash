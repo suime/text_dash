{
 "cells": [
  {
   "cell_type": "code",
   "execution_count": 1,
   "metadata": {},
   "outputs": [],
   "source": [
    "import pandas as pd\n",
    "import warnings\n",
    "\n",
    "warnings.simplefilter(\"ignore\")"
   ]
  },
  {
   "cell_type": "code",
   "execution_count": 2,
   "metadata": {},
   "outputs": [],
   "source": [
    "df = pd.read_csv(\"data/text.csv\")"
   ]
  },
  {
   "cell_type": "code",
   "execution_count": 6,
   "metadata": {},
   "outputs": [
    {
     "name": "stdout",
     "output_type": "stream",
     "text": [
      "2024.01.01\n",
      "영업\n",
      "운영\n",
      "미납\n",
      "돈내놔\n",
      "2024.01.01\n",
      "교통\n",
      "운영\n",
      "미납\n",
      "돈내놔\n",
      "nan\n",
      "nan\n",
      "nan\n",
      "nan\n",
      "nan\n"
     ]
    }
   ],
   "source": [
    "for row_index, row in enumerate(df.index):\n",
    "    for col_index, column in enumerate(df.columns):\n",
    "        value = df.loc[row, column]\n",
    "        print(value)"
   ]
  },
  {
   "cell_type": "code",
   "execution_count": 1,
   "metadata": {},
   "outputs": [],
   "source": [
    "import polars as pl"
   ]
  },
  {
   "cell_type": "code",
   "execution_count": 2,
   "metadata": {},
   "outputs": [],
   "source": [
    "df = pl.read_csv(\"data/text.csv\")"
   ]
  },
  {
   "cell_type": "code",
   "execution_count": 4,
   "metadata": {},
   "outputs": [
    {
     "data": {
      "text/plain": [
       "['일자', '대분류', '중분류', '소분류', '내용']"
      ]
     },
     "execution_count": 4,
     "metadata": {},
     "output_type": "execute_result"
    }
   ],
   "source": [
    "df.columns"
   ]
  },
  {
   "cell_type": "code",
   "execution_count": 29,
   "metadata": {},
   "outputs": [
    {
     "name": "stdout",
     "output_type": "stream",
     "text": [
      "2024.01.01\n",
      "영업\n",
      "운영\n",
      "미납\n",
      "돈내놔\n",
      "2024.01.01\n",
      "교통\n",
      "운영\n",
      "미납\n",
      "돈내놔\n"
     ]
    }
   ],
   "source": [
    " for row_index, row in enumerate(df.iter_rows):\n",
    "    for col in row:\n",
    "        value = col\n",
    "        print(value)\n"
   ]
  },
  {
   "cell_type": "code",
   "execution_count": 18,
   "metadata": {},
   "outputs": [
    {
     "data": {
      "text/plain": [
       "(3, 5)"
      ]
     },
     "execution_count": 18,
     "metadata": {},
     "output_type": "execute_result"
    }
   ],
   "source": [
    "df.shape"
   ]
  },
  {
   "cell_type": "code",
   "execution_count": 21,
   "metadata": {},
   "outputs": [
    {
     "name": "stdout",
     "output_type": "stream",
     "text": [
      "2024.01.01\n",
      "2024.01.01\n",
      "None\n",
      "영업\n",
      "교통\n",
      "None\n",
      "운영\n",
      "운영\n",
      "None\n",
      "미납\n",
      "미납\n",
      "None\n",
      "돈내놔\n",
      "돈내놔\n",
      "None\n"
     ]
    }
   ],
   "source": [
    "for row_index, row in enumerate(df):\n",
    "    for col_index, column in enumerate(row):\n",
    "        print(column)\n",
    "        # item = QTableWidgetItem(str(value))\n",
    "        # widget.setItem(row_index, col_index, item)"
   ]
  },
  {
   "cell_type": "markdown",
   "metadata": {},
   "source": [
    "## read df 콤포넌츠\n",
    "\n",
    "- 다양한 유형의 민원 파일을 읽어야됨\n"
   ]
  },
  {
   "cell_type": "code",
   "execution_count": 36,
   "metadata": {},
   "outputs": [
    {
     "data": {
      "text/html": [
       "<div>\n",
       "<style scoped>\n",
       "    .dataframe tbody tr th:only-of-type {\n",
       "        vertical-align: middle;\n",
       "    }\n",
       "\n",
       "    .dataframe tbody tr th {\n",
       "        vertical-align: top;\n",
       "    }\n",
       "\n",
       "    .dataframe thead th {\n",
       "        text-align: right;\n",
       "    }\n",
       "</style>\n",
       "<table border=\"1\" class=\"dataframe\">\n",
       "  <thead>\n",
       "    <tr style=\"text-align: right;\">\n",
       "      <th></th>\n",
       "      <th>상담(대)</th>\n",
       "      <th>상담(중)</th>\n",
       "      <th>상담(소)</th>\n",
       "      <th>메모</th>\n",
       "    </tr>\n",
       "  </thead>\n",
       "  <tbody>\n",
       "    <tr>\n",
       "      <th>0</th>\n",
       "      <td>교통</td>\n",
       "      <td>제보</td>\n",
       "      <td>견인</td>\n",
       "      <td>중부내륙선 양평방향 상주 조금 지나 타이어펑크 차량 정차 중 후방안전조치요청 / 위...</td>\n",
       "    </tr>\n",
       "    <tr>\n",
       "      <th>1</th>\n",
       "      <td>교통</td>\n",
       "      <td>소통</td>\n",
       "      <td>고속도로 소통상황</td>\n",
       "      <td>영동선 강릉방향 제설 문제되는지 문의 /눈길 없음 안내</td>\n",
       "    </tr>\n",
       "    <tr>\n",
       "      <th>2</th>\n",
       "      <td>교통</td>\n",
       "      <td>제보</td>\n",
       "      <td>기타</td>\n",
       "      <td>도심 잡물제보 / 미동의/ 지자체안내</td>\n",
       "    </tr>\n",
       "    <tr>\n",
       "      <th>3</th>\n",
       "      <td>영업</td>\n",
       "      <td>미납</td>\n",
       "      <td>부가통행료</td>\n",
       "      <td>부가통행료 58주69** / 카드잔액무 / 2024.04.27 / 평택(영) \\22...</td>\n",
       "    </tr>\n",
       "    <tr>\n",
       "      <th>4</th>\n",
       "      <td>NaN</td>\n",
       "      <td>NaN</td>\n",
       "      <td>NaN</td>\n",
       "      <td>NaN</td>\n",
       "    </tr>\n",
       "    <tr>\n",
       "      <th>...</th>\n",
       "      <td>...</td>\n",
       "      <td>...</td>\n",
       "      <td>...</td>\n",
       "      <td>...</td>\n",
       "    </tr>\n",
       "    <tr>\n",
       "      <th>60668</th>\n",
       "      <td>영업</td>\n",
       "      <td>미납</td>\n",
       "      <td>당일미납(위반)</td>\n",
       "      <td>당일미납 20저96 광주이용 / 영업소 문의안내</td>\n",
       "    </tr>\n",
       "    <tr>\n",
       "      <th>60669</th>\n",
       "      <td>영업</td>\n",
       "      <td>기타 편의시설</td>\n",
       "      <td>영업소</td>\n",
       "      <td>하기건 /다시한번 송악영업소 안내</td>\n",
       "    </tr>\n",
       "    <tr>\n",
       "      <th>60670</th>\n",
       "      <td>영업</td>\n",
       "      <td>기타 편의시설</td>\n",
       "      <td>기타</td>\n",
       "      <td>천안논산선/논산방향/정안알밤 휴게소/우동코너 식당/검은색 작은 가방 놓고 왔다함</td>\n",
       "    </tr>\n",
       "    <tr>\n",
       "      <th>60671</th>\n",
       "      <td>영업</td>\n",
       "      <td>미납</td>\n",
       "      <td>민자미납</td>\n",
       "      <td>♣민자 64수21 /설문/양주 영업소 미결재 전화번호 문자발송</td>\n",
       "    </tr>\n",
       "    <tr>\n",
       "      <th>60672</th>\n",
       "      <td>영업</td>\n",
       "      <td>미납</td>\n",
       "      <td>고객과실위반</td>\n",
       "      <td>180우55 /0302-0426 군자외11건 카드정지 33900 /카톡</td>\n",
       "    </tr>\n",
       "  </tbody>\n",
       "</table>\n",
       "<p>60673 rows × 4 columns</p>\n",
       "</div>"
      ],
      "text/plain": [
       "      상담(대)    상담(중)      상담(소)  \\\n",
       "0        교통       제보         견인   \n",
       "1        교통       소통  고속도로 소통상황   \n",
       "2        교통       제보         기타   \n",
       "3        영업       미납      부가통행료   \n",
       "4       NaN      NaN        NaN   \n",
       "...     ...      ...        ...   \n",
       "60668    영업       미납   당일미납(위반)   \n",
       "60669    영업  기타 편의시설        영업소   \n",
       "60670    영업  기타 편의시설         기타   \n",
       "60671    영업       미납       민자미납   \n",
       "60672    영업       미납     고객과실위반   \n",
       "\n",
       "                                                      메모  \n",
       "0      중부내륙선 양평방향 상주 조금 지나 타이어펑크 차량 정차 중 후방안전조치요청 / 위...  \n",
       "1                         영동선 강릉방향 제설 문제되는지 문의 /눈길 없음 안내  \n",
       "2                                  도심 잡물제보 / 미동의/ 지자체안내   \n",
       "3      부가통행료 58주69** / 카드잔액무 / 2024.04.27 / 평택(영) \\22...  \n",
       "4                                                    NaN  \n",
       "...                                                  ...  \n",
       "60668                         당일미납 20저96 광주이용 / 영업소 문의안내  \n",
       "60669                                 하기건 /다시한번 송악영업소 안내  \n",
       "60670       천안논산선/논산방향/정안알밤 휴게소/우동코너 식당/검은색 작은 가방 놓고 왔다함  \n",
       "60671                 ♣민자 64수21 /설문/양주 영업소 미결재 전화번호 문자발송  \n",
       "60672            180우55 /0302-0426 군자외11건 카드정지 33900 /카톡  \n",
       "\n",
       "[60673 rows x 4 columns]"
      ]
     },
     "execution_count": 36,
     "metadata": {},
     "output_type": "execute_result"
    }
   ],
   "source": [
    "import src.components.read_df as src\n",
    "\n",
    "# df = src.read_df('data/text.csv')\n",
    "# df = src.read_df('data/data/1.5월분석자료 세부.xlsx')\n",
    "# df = src.read_df('data/data/5월 15일까지.xlsx')\n",
    "df = src.read_df(\"data/data/5월 15일까지.xlsx\")\n",
    "\n",
    "df"
   ]
  },
  {
   "cell_type": "code",
   "execution_count": 59,
   "metadata": {},
   "outputs": [
    {
     "ename": "AttributeError",
     "evalue": "'int' object has no attribute 'stdout'",
     "output_type": "error",
     "traceback": [
      "\u001b[1;31m---------------------------------------------------------------------------\u001b[0m",
      "\u001b[1;31mAttributeError\u001b[0m                            Traceback (most recent call last)",
      "Cell \u001b[1;32mIn[59], line 5\u001b[0m\n\u001b[0;32m      1\u001b[0m \u001b[38;5;28;01mimport\u001b[39;00m \u001b[38;5;21;01msubprocess\u001b[39;00m\n\u001b[0;32m      3\u001b[0m r \u001b[38;5;241m=\u001b[39m subprocess\u001b[38;5;241m.\u001b[39mcall(\u001b[38;5;124m\"\u001b[39m\u001b[38;5;124mhelp\u001b[39m\u001b[38;5;124m\"\u001b[39m)\n\u001b[1;32m----> 5\u001b[0m \u001b[38;5;28mprint\u001b[39m(\u001b[43mr\u001b[49m\u001b[38;5;241;43m.\u001b[39;49m\u001b[43mstdout\u001b[49m)\n\u001b[0;32m      6\u001b[0m \u001b[38;5;28mprint\u001b[39m(r\u001b[38;5;241m.\u001b[39mstderr)\n",
      "\u001b[1;31mAttributeError\u001b[0m: 'int' object has no attribute 'stdout'"
     ]
    }
   ],
   "source": [
    "import subprocess\n",
    "\n",
    "r = subprocess.call(\"help\")\n",
    "\n",
    "print(r.stdout)\n",
    "print(r.stderr)"
   ]
  },
  {
   "cell_type": "code",
   "execution_count": 8,
   "metadata": {},
   "outputs": [
    {
     "data": {
      "text/plain": [
       "pandas.core.frame.DataFrame"
      ]
     },
     "execution_count": 8,
     "metadata": {},
     "output_type": "execute_result"
    }
   ],
   "source": [
    "type(df)"
   ]
  },
  {
   "cell_type": "code",
   "execution_count": 10,
   "metadata": {},
   "outputs": [],
   "source": [
    "df = pl.DataFrame(df)"
   ]
  },
  {
   "cell_type": "code",
   "execution_count": 25,
   "metadata": {},
   "outputs": [],
   "source": [
    "df[\"일자\"]\n",
    "df = df.with_columns(pl.col(\"일자\").str.to_date(\"%Y.%m.%d\"))"
   ]
  },
  {
   "cell_type": "code",
   "execution_count": 24,
   "metadata": {},
   "outputs": [
    {
     "data": {
      "text/html": [
       "<div><style>\n",
       ".dataframe > thead > tr,\n",
       ".dataframe > tbody > tr {\n",
       "  text-align: right;\n",
       "  white-space: pre-wrap;\n",
       "}\n",
       "</style>\n",
       "<small>shape: (2, 5)</small><table border=\"1\" class=\"dataframe\"><thead><tr><th>일자</th><th>대분류</th><th>중분류</th><th>소분류</th><th>내용</th></tr><tr><td>str</td><td>str</td><td>str</td><td>str</td><td>str</td></tr></thead><tbody><tr><td>&quot;2024.01.01&quot;</td><td>&quot;영업&quot;</td><td>&quot;운영&quot;</td><td>&quot;미납&quot;</td><td>&quot;돈내놔&quot;</td></tr><tr><td>&quot;2024.01.01&quot;</td><td>&quot;교통&quot;</td><td>&quot;운영&quot;</td><td>&quot;미납&quot;</td><td>&quot;돈내놔&quot;</td></tr></tbody></table></div>"
      ],
      "text/plain": [
       "shape: (2, 5)\n",
       "┌────────────┬────────┬────────┬────────┬────────┐\n",
       "│ 일자       ┆ 대분류 ┆ 중분류 ┆ 소분류 ┆ 내용   │\n",
       "│ ---        ┆ ---    ┆ ---    ┆ ---    ┆ ---    │\n",
       "│ str        ┆ str    ┆ str    ┆ str    ┆ str    │\n",
       "╞════════════╪════════╪════════╪════════╪════════╡\n",
       "│ 2024.01.01 ┆ 영업   ┆ 운영   ┆ 미납   ┆ 돈내놔 │\n",
       "│ 2024.01.01 ┆ 교통   ┆ 운영   ┆ 미납   ┆ 돈내놔 │\n",
       "└────────────┴────────┴────────┴────────┴────────┘"
      ]
     },
     "execution_count": 24,
     "metadata": {},
     "output_type": "execute_result"
    }
   ],
   "source": [
    "df"
   ]
  },
  {
   "cell_type": "code",
   "execution_count": 26,
   "metadata": {},
   "outputs": [],
   "source": [
    "cols = dict(date=\"\", text=\"\", category=[])"
   ]
  },
  {
   "cell_type": "code",
   "execution_count": 29,
   "metadata": {},
   "outputs": [
    {
     "data": {
      "text/plain": [
       "'asd'"
      ]
     },
     "execution_count": 29,
     "metadata": {},
     "output_type": "execute_result"
    }
   ],
   "source": [
    "cols[\"date\"] = \"asd\"\n",
    "cols[\"date\"]"
   ]
  }
 ],
 "metadata": {
  "kernelspec": {
   "display_name": "Python 3",
   "language": "python",
   "name": "python3"
  },
  "language_info": {
   "codemirror_mode": {
    "name": "ipython",
    "version": 3
   },
   "file_extension": ".py",
   "mimetype": "text/x-python",
   "name": "python",
   "nbconvert_exporter": "python",
   "pygments_lexer": "ipython3",
   "version": "3.10.5"
  }
 },
 "nbformat": 4,
 "nbformat_minor": 2
}
